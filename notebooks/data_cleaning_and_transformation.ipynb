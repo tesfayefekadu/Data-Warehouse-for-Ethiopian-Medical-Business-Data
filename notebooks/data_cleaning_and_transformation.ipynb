{
 "cells": [
  {
   "cell_type": "code",
   "execution_count": 1,
   "metadata": {},
   "outputs": [],
   "source": [
    "import pandas as pd\n",
    "import logging"
   ]
  },
  {
   "cell_type": "code",
   "execution_count": 3,
   "metadata": {},
   "outputs": [],
   "source": [
    "\n",
    "\n",
    "# Configure logging\n",
    "logging.basicConfig(filename='../log/cleaning_log.log', level=logging.INFO, format='%(asctime)s - %(message)s')\n",
    "\n",
    "# Add logging to each step\n",
    "logging.info('Starting data cleaning process')\n",
    "# Perform data cleaning...\n",
    "logging.info(f'Removed {{len(df) - len(df_cleaned)}} duplicates')\n",
    "logging.info(f'Handled missing values')\n",
    "logging.info(f'Saved cleaned data')\n"
   ]
  },
  {
   "cell_type": "code",
   "execution_count": 4,
   "metadata": {},
   "outputs": [
    {
     "name": "stdout",
     "output_type": "stream",
     "text": [
      "Index(['Channel Title', 'Channel Username', 'ID', 'Message', 'Date',\n",
      "       'Media Path'],\n",
      "      dtype='object')\n"
     ]
    }
   ],
   "source": [
    "# Load the scraped data (use the correct path for your file)\n",
    "df = pd.read_csv('../data/telegram_data.csv')\n",
    "#print(df.head)\n",
    "print(df.columns)\n",
    "\n"
   ]
  },
  {
   "cell_type": "code",
   "execution_count": 5,
   "metadata": {},
   "outputs": [
    {
     "name": "stdout",
     "output_type": "stream",
     "text": [
      "Duplicates removed: 0\n"
     ]
    }
   ],
   "source": [
    "# 1. Remove Duplicates\n",
    "df_cleaned = df.drop_duplicates()\n",
    "print(f'Duplicates removed: {len(df) - len(df_cleaned)}')\n",
    "\n"
   ]
  },
  {
   "cell_type": "code",
   "execution_count": 6,
   "metadata": {},
   "outputs": [
    {
     "name": "stdout",
     "output_type": "stream",
     "text": [
      "Rows removed due to missing values: 2735\n"
     ]
    }
   ],
   "source": [
    "# 2. Handle Missing Values\n",
    "# Option 1: Remove rows with missing values\n",
    "df_cleaned = df_cleaned.dropna()\n",
    "print(f'Rows removed due to missing values: {df.isnull().sum().sum()}')\n",
    "\n",
    "# Option 2: Fill missing values (you can adjust based on your data)\n",
    "# df_cleaned['Column'] = df_cleaned['Column'].fillna('Default_Value')\n",
    "\n"
   ]
  },
  {
   "cell_type": "code",
   "execution_count": 7,
   "metadata": {},
   "outputs": [],
   "source": [
    "# 3. Standardize Formats\n",
    "# Convert the 'Date' column to a consistent datetime format if needed\n",
    "df_cleaned['Date'] = pd.to_datetime(df_cleaned['Date'], errors='coerce')\n",
    "\n"
   ]
  },
  {
   "cell_type": "code",
   "execution_count": 8,
   "metadata": {},
   "outputs": [
    {
     "name": "stdout",
     "output_type": "stream",
     "text": [
      "Invalid dates found: 0\n"
     ]
    }
   ],
   "source": [
    "# 4. Data Validation\n",
    "# You can add specific rules to validate your data (e.g., check for invalid dates)\n",
    "invalid_dates = df_cleaned['Date'].isnull().sum()\n",
    "print(f'Invalid dates found: {invalid_dates}')\n",
    "\n"
   ]
  },
  {
   "cell_type": "code",
   "execution_count": 10,
   "metadata": {},
   "outputs": [
    {
     "name": "stdout",
     "output_type": "stream",
     "text": [
      "Cleaned data saved to cleaned_data_with_drop.csv\n"
     ]
    }
   ],
   "source": [
    "# 5. Store the cleaned data to a new CSV or database\n",
    "df_cleaned.to_csv('../data/cleaned_data_with_drop1.csv', index=False)\n",
    "print('Cleaned data saved to cleaned_data_with_drop.csv')\n",
    "\n",
    "# You can also insert the cleaned data into a relational database like PostgreSQL"
   ]
  }
 ],
 "metadata": {
  "kernelspec": {
   "display_name": "venv",
   "language": "python",
   "name": "python3"
  },
  "language_info": {
   "codemirror_mode": {
    "name": "ipython",
    "version": 3
   },
   "file_extension": ".py",
   "mimetype": "text/x-python",
   "name": "python",
   "nbconvert_exporter": "python",
   "pygments_lexer": "ipython3",
   "version": "3.11.2"
  }
 },
 "nbformat": 4,
 "nbformat_minor": 2
}
